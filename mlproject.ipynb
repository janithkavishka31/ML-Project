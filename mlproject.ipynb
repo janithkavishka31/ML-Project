{
  "nbformat": 4,
  "nbformat_minor": 0,
  "metadata": {
    "colab": {
      "provenance": [],
      "authorship_tag": "ABX9TyODVc2v5IDyfNeBY+00Ev3q",
      "include_colab_link": true
    },
    "kernelspec": {
      "name": "python3",
      "display_name": "Python 3"
    },
    "language_info": {
      "name": "python"
    }
  },
  "cells": [
    {
      "cell_type": "markdown",
      "metadata": {
        "id": "view-in-github",
        "colab_type": "text"
      },
      "source": [
        "<a href=\"https://colab.research.google.com/github/janithkavishka31/ML-Project/blob/main/mlproject.ipynb\" target=\"_parent\"><img src=\"https://colab.research.google.com/assets/colab-badge.svg\" alt=\"Open In Colab\"/></a>"
      ]
    },
    {
      "cell_type": "code",
      "execution_count": null,
      "metadata": {
        "id": "-YixAFdh8jEZ"
      },
      "outputs": [],
      "source": []
    },
    {
      "cell_type": "code",
      "source": [
        "!pip install torch torchvision matplotlib\n"
      ],
      "metadata": {
        "colab": {
          "base_uri": "https://localhost:8080/"
        },
        "id": "OMmHTni7jdpm",
        "outputId": "fe84414c-c941-411e-a166-f309a4e0481f"
      },
      "execution_count": null,
      "outputs": [
        {
          "output_type": "stream",
          "name": "stdout",
          "text": [
            "Requirement already satisfied: torch in /usr/local/lib/python3.10/dist-packages (2.5.1+cu121)\n",
            "Requirement already satisfied: torchvision in /usr/local/lib/python3.10/dist-packages (0.20.1+cu121)\n",
            "Requirement already satisfied: matplotlib in /usr/local/lib/python3.10/dist-packages (3.8.0)\n",
            "Requirement already satisfied: filelock in /usr/local/lib/python3.10/dist-packages (from torch) (3.16.1)\n",
            "Requirement already satisfied: typing-extensions>=4.8.0 in /usr/local/lib/python3.10/dist-packages (from torch) (4.12.2)\n",
            "Requirement already satisfied: networkx in /usr/local/lib/python3.10/dist-packages (from torch) (3.4.2)\n",
            "Requirement already satisfied: jinja2 in /usr/local/lib/python3.10/dist-packages (from torch) (3.1.4)\n",
            "Requirement already satisfied: fsspec in /usr/local/lib/python3.10/dist-packages (from torch) (2024.10.0)\n",
            "Requirement already satisfied: sympy==1.13.1 in /usr/local/lib/python3.10/dist-packages (from torch) (1.13.1)\n",
            "Requirement already satisfied: mpmath<1.4,>=1.1.0 in /usr/local/lib/python3.10/dist-packages (from sympy==1.13.1->torch) (1.3.0)\n",
            "Requirement already satisfied: numpy in /usr/local/lib/python3.10/dist-packages (from torchvision) (1.26.4)\n",
            "Requirement already satisfied: pillow!=8.3.*,>=5.3.0 in /usr/local/lib/python3.10/dist-packages (from torchvision) (11.0.0)\n",
            "Requirement already satisfied: contourpy>=1.0.1 in /usr/local/lib/python3.10/dist-packages (from matplotlib) (1.3.1)\n",
            "Requirement already satisfied: cycler>=0.10 in /usr/local/lib/python3.10/dist-packages (from matplotlib) (0.12.1)\n",
            "Requirement already satisfied: fonttools>=4.22.0 in /usr/local/lib/python3.10/dist-packages (from matplotlib) (4.55.0)\n",
            "Requirement already satisfied: kiwisolver>=1.0.1 in /usr/local/lib/python3.10/dist-packages (from matplotlib) (1.4.7)\n",
            "Requirement already satisfied: packaging>=20.0 in /usr/local/lib/python3.10/dist-packages (from matplotlib) (24.2)\n",
            "Requirement already satisfied: pyparsing>=2.3.1 in /usr/local/lib/python3.10/dist-packages (from matplotlib) (3.2.0)\n",
            "Requirement already satisfied: python-dateutil>=2.7 in /usr/local/lib/python3.10/dist-packages (from matplotlib) (2.8.2)\n",
            "Requirement already satisfied: six>=1.5 in /usr/local/lib/python3.10/dist-packages (from python-dateutil>=2.7->matplotlib) (1.16.0)\n",
            "Requirement already satisfied: MarkupSafe>=2.0 in /usr/local/lib/python3.10/dist-packages (from jinja2->torch) (3.0.2)\n"
          ]
        }
      ]
    },
    {
      "cell_type": "code",
      "source": [
        "from torchvision import datasets\n",
        "from torchvision.transforms import ToTensor\n",
        "\n"
      ],
      "metadata": {
        "id": "1TtiCaeYkEsi"
      },
      "execution_count": null,
      "outputs": []
    },
    {
      "cell_type": "code",
      "source": [
        "train_data = datasets.MNIST(\n",
        "    root = 'data',\n",
        "    train = True,\n",
        "    download = True,\n",
        "    transform = ToTensor()\n",
        ")\n",
        "\n",
        "test_data = datasets.MNIST(\n",
        "    root = 'data',\n",
        "    train = False,\n",
        "    download = True,\n",
        "    transform = ToTensor()\n",
        ")\n",
        "\n",
        "#"
      ],
      "metadata": {
        "colab": {
          "base_uri": "https://localhost:8080/"
        },
        "id": "aaQcj5MslHpr",
        "outputId": "d7802f6d-5530-4f05-fd59-cd51f6e91164"
      },
      "execution_count": null,
      "outputs": [
        {
          "output_type": "stream",
          "name": "stdout",
          "text": [
            "Downloading http://yann.lecun.com/exdb/mnist/train-images-idx3-ubyte.gz\n",
            "Failed to download (trying next):\n",
            "HTTP Error 403: Forbidden\n",
            "\n",
            "Downloading https://ossci-datasets.s3.amazonaws.com/mnist/train-images-idx3-ubyte.gz\n",
            "Downloading https://ossci-datasets.s3.amazonaws.com/mnist/train-images-idx3-ubyte.gz to data/MNIST/raw/train-images-idx3-ubyte.gz\n"
          ]
        },
        {
          "output_type": "stream",
          "name": "stderr",
          "text": [
            "100%|██████████| 9.91M/9.91M [00:00<00:00, 16.4MB/s]\n"
          ]
        },
        {
          "output_type": "stream",
          "name": "stdout",
          "text": [
            "Extracting data/MNIST/raw/train-images-idx3-ubyte.gz to data/MNIST/raw\n",
            "\n",
            "Downloading http://yann.lecun.com/exdb/mnist/train-labels-idx1-ubyte.gz\n",
            "Failed to download (trying next):\n",
            "HTTP Error 403: Forbidden\n",
            "\n",
            "Downloading https://ossci-datasets.s3.amazonaws.com/mnist/train-labels-idx1-ubyte.gz\n",
            "Downloading https://ossci-datasets.s3.amazonaws.com/mnist/train-labels-idx1-ubyte.gz to data/MNIST/raw/train-labels-idx1-ubyte.gz\n"
          ]
        },
        {
          "output_type": "stream",
          "name": "stderr",
          "text": [
            "100%|██████████| 28.9k/28.9k [00:00<00:00, 485kB/s]\n"
          ]
        },
        {
          "output_type": "stream",
          "name": "stdout",
          "text": [
            "Extracting data/MNIST/raw/train-labels-idx1-ubyte.gz to data/MNIST/raw\n",
            "\n",
            "Downloading http://yann.lecun.com/exdb/mnist/t10k-images-idx3-ubyte.gz\n",
            "Failed to download (trying next):\n",
            "HTTP Error 403: Forbidden\n",
            "\n",
            "Downloading https://ossci-datasets.s3.amazonaws.com/mnist/t10k-images-idx3-ubyte.gz\n",
            "Downloading https://ossci-datasets.s3.amazonaws.com/mnist/t10k-images-idx3-ubyte.gz to data/MNIST/raw/t10k-images-idx3-ubyte.gz\n"
          ]
        },
        {
          "output_type": "stream",
          "name": "stderr",
          "text": [
            "100%|██████████| 1.65M/1.65M [00:00<00:00, 4.50MB/s]\n"
          ]
        },
        {
          "output_type": "stream",
          "name": "stdout",
          "text": [
            "Extracting data/MNIST/raw/t10k-images-idx3-ubyte.gz to data/MNIST/raw\n",
            "\n",
            "Downloading http://yann.lecun.com/exdb/mnist/t10k-labels-idx1-ubyte.gz\n",
            "Failed to download (trying next):\n",
            "HTTP Error 403: Forbidden\n",
            "\n",
            "Downloading https://ossci-datasets.s3.amazonaws.com/mnist/t10k-labels-idx1-ubyte.gz\n",
            "Downloading https://ossci-datasets.s3.amazonaws.com/mnist/t10k-labels-idx1-ubyte.gz to data/MNIST/raw/t10k-labels-idx1-ubyte.gz\n"
          ]
        },
        {
          "output_type": "stream",
          "name": "stderr",
          "text": [
            "100%|██████████| 4.54k/4.54k [00:00<00:00, 4.33MB/s]"
          ]
        },
        {
          "output_type": "stream",
          "name": "stdout",
          "text": [
            "Extracting data/MNIST/raw/t10k-labels-idx1-ubyte.gz to data/MNIST/raw\n",
            "\n"
          ]
        },
        {
          "output_type": "stream",
          "name": "stderr",
          "text": [
            "\n"
          ]
        }
      ]
    },
    {
      "cell_type": "code",
      "source": [
        "train_data"
      ],
      "metadata": {
        "colab": {
          "base_uri": "https://localhost:8080/"
        },
        "id": "XgLOEJICmd62",
        "outputId": "246eb69c-52a8-403a-a943-887feb288496"
      },
      "execution_count": null,
      "outputs": [
        {
          "output_type": "execute_result",
          "data": {
            "text/plain": [
              "Dataset MNIST\n",
              "    Number of datapoints: 60000\n",
              "    Root location: data\n",
              "    Split: Train\n",
              "    StandardTransform\n",
              "Transform: ToTensor()"
            ]
          },
          "metadata": {},
          "execution_count": 4
        }
      ]
    },
    {
      "cell_type": "code",
      "source": [
        "test_data"
      ],
      "metadata": {
        "colab": {
          "base_uri": "https://localhost:8080/"
        },
        "id": "li6DiU2yoE3l",
        "outputId": "8d8cbfa0-372f-47f1-a938-791ce582d34a"
      },
      "execution_count": null,
      "outputs": [
        {
          "output_type": "execute_result",
          "data": {
            "text/plain": [
              "Dataset MNIST\n",
              "    Number of datapoints: 10000\n",
              "    Root location: data\n",
              "    Split: Test\n",
              "    StandardTransform\n",
              "Transform: ToTensor()"
            ]
          },
          "metadata": {},
          "execution_count": 5
        }
      ]
    },
    {
      "cell_type": "code",
      "source": [
        "train_data.data.shape"
      ],
      "metadata": {
        "colab": {
          "base_uri": "https://localhost:8080/"
        },
        "id": "dLmcjGnDp444",
        "outputId": "d66a445a-4e3a-4852-f3b9-eb5288922847"
      },
      "execution_count": null,
      "outputs": [
        {
          "output_type": "execute_result",
          "data": {
            "text/plain": [
              "torch.Size([60000, 28, 28])"
            ]
          },
          "metadata": {},
          "execution_count": 6
        }
      ]
    },
    {
      "cell_type": "code",
      "source": [
        "test_data.data.shape"
      ],
      "metadata": {
        "colab": {
          "base_uri": "https://localhost:8080/"
        },
        "id": "9-IQ1X4SqJX-",
        "outputId": "fe3b9c60-64b5-44af-eb09-9860d820894b"
      },
      "execution_count": null,
      "outputs": [
        {
          "output_type": "execute_result",
          "data": {
            "text/plain": [
              "torch.Size([10000, 28, 28])"
            ]
          },
          "metadata": {},
          "execution_count": 7
        }
      ]
    },
    {
      "cell_type": "code",
      "source": [
        "train_data.targets.size()"
      ],
      "metadata": {
        "colab": {
          "base_uri": "https://localhost:8080/"
        },
        "id": "2WIQ1bourWcL",
        "outputId": "96fb77a2-480f-4cce-8c75-8017769990f2"
      },
      "execution_count": null,
      "outputs": [
        {
          "output_type": "execute_result",
          "data": {
            "text/plain": [
              "torch.Size([60000])"
            ]
          },
          "metadata": {},
          "execution_count": 8
        }
      ]
    },
    {
      "cell_type": "markdown",
      "source": [
        "# New Section"
      ],
      "metadata": {
        "id": "0lNh6KGT0Jj7"
      }
    },
    {
      "cell_type": "code",
      "source": [
        "train_data.targets"
      ],
      "metadata": {
        "colab": {
          "base_uri": "https://localhost:8080/"
        },
        "id": "9rylbKW8r1R4",
        "outputId": "af150924-2ca0-4a1f-e421-d182a9cd3f89"
      },
      "execution_count": null,
      "outputs": [
        {
          "output_type": "execute_result",
          "data": {
            "text/plain": [
              "tensor([5, 0, 4,  ..., 5, 6, 8])"
            ]
          },
          "metadata": {},
          "execution_count": 9
        }
      ]
    },
    {
      "cell_type": "code",
      "source": [
        "from torch.utils.data import DataLoader\n",
        "\n",
        "loaders = {\n",
        "    'train' : DataLoader(train_data,\n",
        "                         batch_size=100,\n",
        "                         shuffle=True,\n",
        "                         num_workers=1),\n",
        "\n",
        "    'test'  : DataLoader(test_data,\n",
        "                         batch_size=100,\n",
        "                         shuffle=True,\n",
        "                         num_workers=1),\n",
        "}"
      ],
      "metadata": {
        "id": "ejneZHvvyTa2"
      },
      "execution_count": null,
      "outputs": []
    },
    {
      "cell_type": "code",
      "source": [
        "loaders"
      ],
      "metadata": {
        "colab": {
          "base_uri": "https://localhost:8080/"
        },
        "id": "ggHsm_2QzJcG",
        "outputId": "defe0d2c-e0c3-484b-fcba-d32cb0a48e4c"
      },
      "execution_count": null,
      "outputs": [
        {
          "output_type": "execute_result",
          "data": {
            "text/plain": [
              "{'train': <torch.utils.data.dataloader.DataLoader at 0x7ee56c24f580>,\n",
              " 'test': <torch.utils.data.dataloader.DataLoader at 0x7ee56bf62440>}"
            ]
          },
          "metadata": {},
          "execution_count": 15
        }
      ]
    },
    {
      "cell_type": "code",
      "source": [
        "import torch.nn as nn\n",
        "import torch.nn.functional as F\n",
        "import torch.optim as optim\n",
        "\n",
        "class CNN(nn.Module):\n",
        "    def __init__(self):\n",
        "        super(CNN, self).__init__()\n",
        "\n",
        "        self.conv1 = nn.Conv2d(1 ,10, kernel_size=5)\n",
        "        self.conv2 = nn.Conv2d(10, 20, kernel_size=5)\n",
        "        self.conv2_drop = nn.Dropout2d()\n",
        "        self.fc1 = nn.Linear(320, 50)\n",
        "        self.fc2 = nn.Linear(50, 10)\n",
        "\n",
        "    def forward(self, x):\n",
        "        x = F.relu(F.max_pool2d(self.conv1(x), 2))\n",
        "        x = F.relu(F.max_pool2d(self.conv2_drop(self.conv2(x)), 2))\n",
        "        x = x.view(-1, 320)\n",
        "        x = F.relu(self.fc1(x))\n",
        "        x = F.dropout(x, training=self.training)\n",
        "        x = self.fc2(x)\n",
        "        return F.softmax(x)\n"
      ],
      "metadata": {
        "id": "KhqykDOEzZA9"
      },
      "execution_count": null,
      "outputs": []
    },
    {
      "cell_type": "code",
      "source": [
        "import torch\n",
        "\n",
        "device = torch.device('cuda' if torch.cuda.is_available() else 'cpu')\n",
        "\n",
        "model=CNN().to(device)\n",
        "optimizer=optim.Adam(model.parameters(),lr=0.001)\n",
        "loss_fn=nn.CrossEntropyLoss()\n",
        "\n",
        "def train(epoch):\n",
        "    model.train()\n",
        "    for batch_idx, (data, target) in enumerate(loaders['train']):\n",
        "        data, target = data.to(device), target.to(device)\n",
        "        optimizer.zero_grad()\n",
        "        output = model(data)\n",
        "        loss = loss_fn(output, target)\n",
        "        loss.backward()\n",
        "        optimizer.step()\n",
        "        if batch_idx % 20 == 0:\n",
        "            print(f'Train Epoch: {epoch} [{batch_idx * len(data)}/{len(loaders[\"train\"].dataset)} ({100. * batch_idx / len(loaders[\"train\"]):.0f}%)]\\t{loss.item():.6f}')\n",
        "\n",
        "\n",
        "def test():\n",
        "    model.eval()\n",
        "    test_loss = 0\n",
        "    correct = 0\n",
        "\n",
        "    with torch.no_grad():\n",
        "        for data, target in loaders['test']:\n",
        "            data, target = data.to(device), target.to(device)\n",
        "            output = model(data)\n",
        "            test_loss += loss_fn(output, target).item()\n",
        "            pred = output.argmax(dim=1, keepdim=True)\n",
        "            correct += pred.eq(target.view_as(pred)).sum().item()\n",
        "\n",
        "\n",
        "    test_loss /= len(loaders['test'].dataset)\n",
        "    print(f'\\nTest set: Average loss: {test_loss:.4f}, Accuracy: {correct}/{len(loaders[\"test\"].dataset)} ({100.*correct/len(loaders[\"test\"].dataset):.0f}%)\\n')\n",
        "\n",
        "\n",
        "\n",
        "\n"
      ],
      "metadata": {
        "id": "oPxoZRvH_fcj"
      },
      "execution_count": null,
      "outputs": []
    },
    {
      "cell_type": "code",
      "source": [
        "for epoch in range(1, 11):\n",
        "    train(epoch)\n",
        "    test()"
      ],
      "metadata": {
        "colab": {
          "base_uri": "https://localhost:8080/"
        },
        "id": "RsOiMtQ95P67",
        "outputId": "5959a22c-c04f-4910-cd08-3b49d9e2980c"
      },
      "execution_count": null,
      "outputs": [
        {
          "output_type": "stream",
          "name": "stderr",
          "text": [
            "<ipython-input-16-46d503fb6c30>:22: UserWarning: Implicit dimension choice for softmax has been deprecated. Change the call to include dim=X as an argument.\n",
            "  return F.softmax(x)\n"
          ]
        },
        {
          "output_type": "stream",
          "name": "stdout",
          "text": [
            "Train Epoch: 1 [0/60000 (0%)]\t2.301604\n",
            "Train Epoch: 1 [2000/60000 (3%)]\t2.284232\n",
            "Train Epoch: 1 [4000/60000 (7%)]\t2.169049\n",
            "Train Epoch: 1 [6000/60000 (10%)]\t1.958901\n",
            "Train Epoch: 1 [8000/60000 (13%)]\t2.001165\n",
            "Train Epoch: 1 [10000/60000 (17%)]\t1.821198\n",
            "Train Epoch: 1 [12000/60000 (20%)]\t1.789902\n",
            "Train Epoch: 1 [14000/60000 (23%)]\t1.870309\n",
            "Train Epoch: 1 [16000/60000 (27%)]\t1.797652\n",
            "Train Epoch: 1 [18000/60000 (30%)]\t1.774330\n",
            "Train Epoch: 1 [20000/60000 (33%)]\t1.814986\n",
            "Train Epoch: 1 [22000/60000 (37%)]\t1.792326\n",
            "Train Epoch: 1 [24000/60000 (40%)]\t1.741531\n",
            "Train Epoch: 1 [26000/60000 (43%)]\t1.686787\n",
            "Train Epoch: 1 [28000/60000 (47%)]\t1.690199\n",
            "Train Epoch: 1 [30000/60000 (50%)]\t1.675495\n",
            "Train Epoch: 1 [32000/60000 (53%)]\t1.637922\n",
            "Train Epoch: 1 [34000/60000 (57%)]\t1.673748\n",
            "Train Epoch: 1 [36000/60000 (60%)]\t1.624620\n",
            "Train Epoch: 1 [38000/60000 (63%)]\t1.679330\n",
            "Train Epoch: 1 [40000/60000 (67%)]\t1.655786\n",
            "Train Epoch: 1 [42000/60000 (70%)]\t1.674159\n",
            "Train Epoch: 1 [44000/60000 (73%)]\t1.682948\n",
            "Train Epoch: 1 [46000/60000 (77%)]\t1.623609\n",
            "Train Epoch: 1 [48000/60000 (80%)]\t1.608575\n",
            "Train Epoch: 1 [50000/60000 (83%)]\t1.557558\n",
            "Train Epoch: 1 [52000/60000 (87%)]\t1.612491\n",
            "Train Epoch: 1 [54000/60000 (90%)]\t1.585524\n",
            "Train Epoch: 1 [56000/60000 (93%)]\t1.626973\n",
            "Train Epoch: 1 [58000/60000 (97%)]\t1.643986\n",
            "\n",
            "Test set: Average loss: 0.0154, Accuracy: 9264/10000 (93%)\n",
            "\n",
            "Train Epoch: 2 [0/60000 (0%)]\t1.562026\n",
            "Train Epoch: 2 [2000/60000 (3%)]\t1.597861\n",
            "Train Epoch: 2 [4000/60000 (7%)]\t1.569869\n",
            "Train Epoch: 2 [6000/60000 (10%)]\t1.613082\n",
            "Train Epoch: 2 [8000/60000 (13%)]\t1.611839\n",
            "Train Epoch: 2 [10000/60000 (17%)]\t1.607771\n",
            "Train Epoch: 2 [12000/60000 (20%)]\t1.611147\n",
            "Train Epoch: 2 [14000/60000 (23%)]\t1.536313\n",
            "Train Epoch: 2 [16000/60000 (27%)]\t1.598604\n",
            "Train Epoch: 2 [18000/60000 (30%)]\t1.569431\n",
            "Train Epoch: 2 [20000/60000 (33%)]\t1.651336\n",
            "Train Epoch: 2 [22000/60000 (37%)]\t1.566963\n",
            "Train Epoch: 2 [24000/60000 (40%)]\t1.618912\n",
            "Train Epoch: 2 [26000/60000 (43%)]\t1.605665\n",
            "Train Epoch: 2 [28000/60000 (47%)]\t1.632541\n",
            "Train Epoch: 2 [30000/60000 (50%)]\t1.613485\n",
            "Train Epoch: 2 [32000/60000 (53%)]\t1.556360\n",
            "Train Epoch: 2 [34000/60000 (57%)]\t1.570955\n",
            "Train Epoch: 2 [36000/60000 (60%)]\t1.582990\n",
            "Train Epoch: 2 [38000/60000 (63%)]\t1.568413\n",
            "Train Epoch: 2 [40000/60000 (67%)]\t1.620158\n",
            "Train Epoch: 2 [42000/60000 (70%)]\t1.568250\n",
            "Train Epoch: 2 [44000/60000 (73%)]\t1.564651\n",
            "Train Epoch: 2 [46000/60000 (77%)]\t1.573411\n",
            "Train Epoch: 2 [48000/60000 (80%)]\t1.547047\n",
            "Train Epoch: 2 [50000/60000 (83%)]\t1.589992\n",
            "Train Epoch: 2 [52000/60000 (87%)]\t1.584271\n",
            "Train Epoch: 2 [54000/60000 (90%)]\t1.577943\n",
            "Train Epoch: 2 [56000/60000 (93%)]\t1.519830\n",
            "Train Epoch: 2 [58000/60000 (97%)]\t1.607280\n",
            "\n",
            "Test set: Average loss: 0.0151, Accuracy: 9484/10000 (95%)\n",
            "\n",
            "Train Epoch: 3 [0/60000 (0%)]\t1.547527\n",
            "Train Epoch: 3 [2000/60000 (3%)]\t1.539038\n",
            "Train Epoch: 3 [4000/60000 (7%)]\t1.601237\n",
            "Train Epoch: 3 [6000/60000 (10%)]\t1.572233\n",
            "Train Epoch: 3 [8000/60000 (13%)]\t1.600643\n",
            "Train Epoch: 3 [10000/60000 (17%)]\t1.557468\n",
            "Train Epoch: 3 [12000/60000 (20%)]\t1.547801\n",
            "Train Epoch: 3 [14000/60000 (23%)]\t1.563449\n",
            "Train Epoch: 3 [16000/60000 (27%)]\t1.518952\n",
            "Train Epoch: 3 [18000/60000 (30%)]\t1.510686\n",
            "Train Epoch: 3 [20000/60000 (33%)]\t1.605734\n",
            "Train Epoch: 3 [22000/60000 (37%)]\t1.525037\n",
            "Train Epoch: 3 [24000/60000 (40%)]\t1.545110\n",
            "Train Epoch: 3 [26000/60000 (43%)]\t1.541437\n",
            "Train Epoch: 3 [28000/60000 (47%)]\t1.538401\n",
            "Train Epoch: 3 [30000/60000 (50%)]\t1.531329\n",
            "Train Epoch: 3 [32000/60000 (53%)]\t1.588222\n",
            "Train Epoch: 3 [34000/60000 (57%)]\t1.569466\n",
            "Train Epoch: 3 [36000/60000 (60%)]\t1.594257\n",
            "Train Epoch: 3 [38000/60000 (63%)]\t1.531253\n",
            "Train Epoch: 3 [40000/60000 (67%)]\t1.586661\n",
            "Train Epoch: 3 [42000/60000 (70%)]\t1.572297\n",
            "Train Epoch: 3 [44000/60000 (73%)]\t1.566311\n",
            "Train Epoch: 3 [46000/60000 (77%)]\t1.545195\n",
            "Train Epoch: 3 [48000/60000 (80%)]\t1.536525\n",
            "Train Epoch: 3 [50000/60000 (83%)]\t1.546874\n",
            "Train Epoch: 3 [52000/60000 (87%)]\t1.563341\n",
            "Train Epoch: 3 [54000/60000 (90%)]\t1.533393\n",
            "Train Epoch: 3 [56000/60000 (93%)]\t1.529570\n",
            "Train Epoch: 3 [58000/60000 (97%)]\t1.580874\n",
            "\n",
            "Test set: Average loss: 0.0150, Accuracy: 9576/10000 (96%)\n",
            "\n",
            "Train Epoch: 4 [0/60000 (0%)]\t1.560600\n",
            "Train Epoch: 4 [2000/60000 (3%)]\t1.564825\n",
            "Train Epoch: 4 [4000/60000 (7%)]\t1.548482\n",
            "Train Epoch: 4 [6000/60000 (10%)]\t1.552980\n",
            "Train Epoch: 4 [8000/60000 (13%)]\t1.595645\n",
            "Train Epoch: 4 [10000/60000 (17%)]\t1.598593\n",
            "Train Epoch: 4 [12000/60000 (20%)]\t1.616593\n",
            "Train Epoch: 4 [14000/60000 (23%)]\t1.547247\n",
            "Train Epoch: 4 [16000/60000 (27%)]\t1.562986\n",
            "Train Epoch: 4 [18000/60000 (30%)]\t1.515735\n",
            "Train Epoch: 4 [20000/60000 (33%)]\t1.545207\n",
            "Train Epoch: 4 [22000/60000 (37%)]\t1.507769\n",
            "Train Epoch: 4 [24000/60000 (40%)]\t1.575788\n",
            "Train Epoch: 4 [26000/60000 (43%)]\t1.568525\n",
            "Train Epoch: 4 [28000/60000 (47%)]\t1.583254\n",
            "Train Epoch: 4 [30000/60000 (50%)]\t1.554520\n",
            "Train Epoch: 4 [32000/60000 (53%)]\t1.569542\n",
            "Train Epoch: 4 [34000/60000 (57%)]\t1.551920\n",
            "Train Epoch: 4 [36000/60000 (60%)]\t1.552042\n",
            "Train Epoch: 4 [38000/60000 (63%)]\t1.548879\n",
            "Train Epoch: 4 [40000/60000 (67%)]\t1.548333\n",
            "Train Epoch: 4 [42000/60000 (70%)]\t1.587675\n",
            "Train Epoch: 4 [44000/60000 (73%)]\t1.541024\n",
            "Train Epoch: 4 [46000/60000 (77%)]\t1.592995\n",
            "Train Epoch: 4 [48000/60000 (80%)]\t1.598555\n",
            "Train Epoch: 4 [50000/60000 (83%)]\t1.618592\n",
            "Train Epoch: 4 [52000/60000 (87%)]\t1.527461\n",
            "Train Epoch: 4 [54000/60000 (90%)]\t1.557751\n",
            "Train Epoch: 4 [56000/60000 (93%)]\t1.575218\n",
            "Train Epoch: 4 [58000/60000 (97%)]\t1.532347\n",
            "\n",
            "Test set: Average loss: 0.0150, Accuracy: 9638/10000 (96%)\n",
            "\n",
            "Train Epoch: 5 [0/60000 (0%)]\t1.538555\n",
            "Train Epoch: 5 [2000/60000 (3%)]\t1.536440\n",
            "Train Epoch: 5 [4000/60000 (7%)]\t1.574790\n",
            "Train Epoch: 5 [6000/60000 (10%)]\t1.576649\n",
            "Train Epoch: 5 [8000/60000 (13%)]\t1.593821\n",
            "Train Epoch: 5 [10000/60000 (17%)]\t1.571722\n",
            "Train Epoch: 5 [12000/60000 (20%)]\t1.547878\n",
            "Train Epoch: 5 [14000/60000 (23%)]\t1.510690\n",
            "Train Epoch: 5 [16000/60000 (27%)]\t1.519191\n",
            "Train Epoch: 5 [18000/60000 (30%)]\t1.546561\n",
            "Train Epoch: 5 [20000/60000 (33%)]\t1.518757\n",
            "Train Epoch: 5 [22000/60000 (37%)]\t1.547552\n",
            "Train Epoch: 5 [24000/60000 (40%)]\t1.517242\n",
            "Train Epoch: 5 [26000/60000 (43%)]\t1.606359\n",
            "Train Epoch: 5 [28000/60000 (47%)]\t1.510108\n",
            "Train Epoch: 5 [30000/60000 (50%)]\t1.568997\n",
            "Train Epoch: 5 [32000/60000 (53%)]\t1.539382\n",
            "Train Epoch: 5 [34000/60000 (57%)]\t1.547480\n",
            "Train Epoch: 5 [36000/60000 (60%)]\t1.516605\n",
            "Train Epoch: 5 [38000/60000 (63%)]\t1.485322\n",
            "Train Epoch: 5 [40000/60000 (67%)]\t1.557913\n",
            "Train Epoch: 5 [42000/60000 (70%)]\t1.526973\n",
            "Train Epoch: 5 [44000/60000 (73%)]\t1.554016\n",
            "Train Epoch: 5 [46000/60000 (77%)]\t1.560261\n",
            "Train Epoch: 5 [48000/60000 (80%)]\t1.536065\n",
            "Train Epoch: 5 [50000/60000 (83%)]\t1.525896\n",
            "Train Epoch: 5 [52000/60000 (87%)]\t1.525175\n",
            "Train Epoch: 5 [54000/60000 (90%)]\t1.537278\n",
            "Train Epoch: 5 [56000/60000 (93%)]\t1.557364\n",
            "Train Epoch: 5 [58000/60000 (97%)]\t1.538609\n",
            "\n",
            "Test set: Average loss: 0.0150, Accuracy: 9628/10000 (96%)\n",
            "\n",
            "Train Epoch: 6 [0/60000 (0%)]\t1.526999\n",
            "Train Epoch: 6 [2000/60000 (3%)]\t1.535699\n",
            "Train Epoch: 6 [4000/60000 (7%)]\t1.518019\n",
            "Train Epoch: 6 [6000/60000 (10%)]\t1.522023\n",
            "Train Epoch: 6 [8000/60000 (13%)]\t1.530354\n",
            "Train Epoch: 6 [10000/60000 (17%)]\t1.510398\n",
            "Train Epoch: 6 [12000/60000 (20%)]\t1.579985\n",
            "Train Epoch: 6 [14000/60000 (23%)]\t1.520327\n",
            "Train Epoch: 6 [16000/60000 (27%)]\t1.493911\n",
            "Train Epoch: 6 [18000/60000 (30%)]\t1.551764\n",
            "Train Epoch: 6 [20000/60000 (33%)]\t1.554496\n",
            "Train Epoch: 6 [22000/60000 (37%)]\t1.531489\n",
            "Train Epoch: 6 [24000/60000 (40%)]\t1.542223\n",
            "Train Epoch: 6 [26000/60000 (43%)]\t1.512575\n",
            "Train Epoch: 6 [28000/60000 (47%)]\t1.575775\n",
            "Train Epoch: 6 [30000/60000 (50%)]\t1.564873\n",
            "Train Epoch: 6 [32000/60000 (53%)]\t1.549684\n",
            "Train Epoch: 6 [34000/60000 (57%)]\t1.516372\n",
            "Train Epoch: 6 [36000/60000 (60%)]\t1.546465\n",
            "Train Epoch: 6 [38000/60000 (63%)]\t1.544306\n",
            "Train Epoch: 6 [40000/60000 (67%)]\t1.536622\n",
            "Train Epoch: 6 [42000/60000 (70%)]\t1.521446\n",
            "Train Epoch: 6 [44000/60000 (73%)]\t1.513318\n",
            "Train Epoch: 6 [46000/60000 (77%)]\t1.567291\n",
            "Train Epoch: 6 [48000/60000 (80%)]\t1.569521\n",
            "Train Epoch: 6 [50000/60000 (83%)]\t1.552075\n",
            "Train Epoch: 6 [52000/60000 (87%)]\t1.518558\n",
            "Train Epoch: 6 [54000/60000 (90%)]\t1.591826\n",
            "Train Epoch: 6 [56000/60000 (93%)]\t1.532932\n",
            "Train Epoch: 6 [58000/60000 (97%)]\t1.533809\n",
            "\n",
            "Test set: Average loss: 0.0149, Accuracy: 9684/10000 (97%)\n",
            "\n",
            "Train Epoch: 7 [0/60000 (0%)]\t1.568108\n",
            "Train Epoch: 7 [2000/60000 (3%)]\t1.526706\n",
            "Train Epoch: 7 [4000/60000 (7%)]\t1.529009\n",
            "Train Epoch: 7 [6000/60000 (10%)]\t1.514078\n",
            "Train Epoch: 7 [8000/60000 (13%)]\t1.530411\n",
            "Train Epoch: 7 [10000/60000 (17%)]\t1.586472\n",
            "Train Epoch: 7 [12000/60000 (20%)]\t1.564328\n",
            "Train Epoch: 7 [14000/60000 (23%)]\t1.529896\n",
            "Train Epoch: 7 [16000/60000 (27%)]\t1.572222\n",
            "Train Epoch: 7 [18000/60000 (30%)]\t1.572116\n",
            "Train Epoch: 7 [20000/60000 (33%)]\t1.547881\n",
            "Train Epoch: 7 [22000/60000 (37%)]\t1.507421\n",
            "Train Epoch: 7 [24000/60000 (40%)]\t1.562289\n",
            "Train Epoch: 7 [26000/60000 (43%)]\t1.502346\n",
            "Train Epoch: 7 [28000/60000 (47%)]\t1.514296\n",
            "Train Epoch: 7 [30000/60000 (50%)]\t1.523160\n",
            "Train Epoch: 7 [32000/60000 (53%)]\t1.507119\n",
            "Train Epoch: 7 [34000/60000 (57%)]\t1.557921\n",
            "Train Epoch: 7 [36000/60000 (60%)]\t1.498782\n",
            "Train Epoch: 7 [38000/60000 (63%)]\t1.543034\n",
            "Train Epoch: 7 [40000/60000 (67%)]\t1.564767\n",
            "Train Epoch: 7 [42000/60000 (70%)]\t1.556384\n",
            "Train Epoch: 7 [44000/60000 (73%)]\t1.561209\n",
            "Train Epoch: 7 [46000/60000 (77%)]\t1.558598\n",
            "Train Epoch: 7 [48000/60000 (80%)]\t1.509569\n",
            "Train Epoch: 7 [50000/60000 (83%)]\t1.511355\n",
            "Train Epoch: 7 [52000/60000 (87%)]\t1.527209\n",
            "Train Epoch: 7 [54000/60000 (90%)]\t1.502114\n",
            "Train Epoch: 7 [56000/60000 (93%)]\t1.512213\n",
            "Train Epoch: 7 [58000/60000 (97%)]\t1.550021\n",
            "\n",
            "Test set: Average loss: 0.0149, Accuracy: 9705/10000 (97%)\n",
            "\n",
            "Train Epoch: 8 [0/60000 (0%)]\t1.542568\n",
            "Train Epoch: 8 [2000/60000 (3%)]\t1.527449\n",
            "Train Epoch: 8 [4000/60000 (7%)]\t1.573422\n",
            "Train Epoch: 8 [6000/60000 (10%)]\t1.504225\n",
            "Train Epoch: 8 [8000/60000 (13%)]\t1.567182\n",
            "Train Epoch: 8 [10000/60000 (17%)]\t1.500413\n",
            "Train Epoch: 8 [12000/60000 (20%)]\t1.557023\n",
            "Train Epoch: 8 [14000/60000 (23%)]\t1.528834\n",
            "Train Epoch: 8 [16000/60000 (27%)]\t1.528333\n",
            "Train Epoch: 8 [18000/60000 (30%)]\t1.558475\n",
            "Train Epoch: 8 [20000/60000 (33%)]\t1.571526\n",
            "Train Epoch: 8 [22000/60000 (37%)]\t1.563854\n",
            "Train Epoch: 8 [24000/60000 (40%)]\t1.533070\n",
            "Train Epoch: 8 [26000/60000 (43%)]\t1.530619\n",
            "Train Epoch: 8 [28000/60000 (47%)]\t1.500034\n",
            "Train Epoch: 8 [30000/60000 (50%)]\t1.535396\n",
            "Train Epoch: 8 [32000/60000 (53%)]\t1.552844\n",
            "Train Epoch: 8 [34000/60000 (57%)]\t1.552137\n",
            "Train Epoch: 8 [36000/60000 (60%)]\t1.510841\n",
            "Train Epoch: 8 [38000/60000 (63%)]\t1.535828\n",
            "Train Epoch: 8 [40000/60000 (67%)]\t1.515815\n",
            "Train Epoch: 8 [42000/60000 (70%)]\t1.536599\n",
            "Train Epoch: 8 [44000/60000 (73%)]\t1.530494\n",
            "Train Epoch: 8 [46000/60000 (77%)]\t1.537870\n",
            "Train Epoch: 8 [48000/60000 (80%)]\t1.525932\n",
            "Train Epoch: 8 [50000/60000 (83%)]\t1.541655\n",
            "Train Epoch: 8 [52000/60000 (87%)]\t1.522731\n",
            "Train Epoch: 8 [54000/60000 (90%)]\t1.528707\n",
            "Train Epoch: 8 [56000/60000 (93%)]\t1.537004\n",
            "Train Epoch: 8 [58000/60000 (97%)]\t1.500571\n",
            "\n",
            "Test set: Average loss: 0.0149, Accuracy: 9694/10000 (97%)\n",
            "\n",
            "Train Epoch: 9 [0/60000 (0%)]\t1.512861\n",
            "Train Epoch: 9 [2000/60000 (3%)]\t1.521682\n",
            "Train Epoch: 9 [4000/60000 (7%)]\t1.519197\n",
            "Train Epoch: 9 [6000/60000 (10%)]\t1.506750\n",
            "Train Epoch: 9 [8000/60000 (13%)]\t1.526682\n",
            "Train Epoch: 9 [10000/60000 (17%)]\t1.491670\n",
            "Train Epoch: 9 [12000/60000 (20%)]\t1.522463\n",
            "Train Epoch: 9 [14000/60000 (23%)]\t1.534634\n",
            "Train Epoch: 9 [16000/60000 (27%)]\t1.545623\n",
            "Train Epoch: 9 [18000/60000 (30%)]\t1.504668\n",
            "Train Epoch: 9 [20000/60000 (33%)]\t1.506495\n",
            "Train Epoch: 9 [22000/60000 (37%)]\t1.512917\n",
            "Train Epoch: 9 [24000/60000 (40%)]\t1.512466\n",
            "Train Epoch: 9 [26000/60000 (43%)]\t1.512136\n",
            "Train Epoch: 9 [28000/60000 (47%)]\t1.524854\n",
            "Train Epoch: 9 [30000/60000 (50%)]\t1.571104\n",
            "Train Epoch: 9 [32000/60000 (53%)]\t1.544314\n",
            "Train Epoch: 9 [34000/60000 (57%)]\t1.556381\n",
            "Train Epoch: 9 [36000/60000 (60%)]\t1.558596\n",
            "Train Epoch: 9 [38000/60000 (63%)]\t1.522183\n",
            "Train Epoch: 9 [40000/60000 (67%)]\t1.543653\n",
            "Train Epoch: 9 [42000/60000 (70%)]\t1.568351\n",
            "Train Epoch: 9 [44000/60000 (73%)]\t1.513830\n",
            "Train Epoch: 9 [46000/60000 (77%)]\t1.518291\n",
            "Train Epoch: 9 [48000/60000 (80%)]\t1.552042\n",
            "Train Epoch: 9 [50000/60000 (83%)]\t1.559102\n",
            "Train Epoch: 9 [52000/60000 (87%)]\t1.516652\n",
            "Train Epoch: 9 [54000/60000 (90%)]\t1.535175\n",
            "Train Epoch: 9 [56000/60000 (93%)]\t1.545670\n",
            "Train Epoch: 9 [58000/60000 (97%)]\t1.515440\n",
            "\n",
            "Test set: Average loss: 0.0149, Accuracy: 9712/10000 (97%)\n",
            "\n",
            "Train Epoch: 10 [0/60000 (0%)]\t1.546354\n",
            "Train Epoch: 10 [2000/60000 (3%)]\t1.558144\n",
            "Train Epoch: 10 [4000/60000 (7%)]\t1.495964\n",
            "Train Epoch: 10 [6000/60000 (10%)]\t1.535317\n",
            "Train Epoch: 10 [8000/60000 (13%)]\t1.530374\n",
            "Train Epoch: 10 [10000/60000 (17%)]\t1.517045\n",
            "Train Epoch: 10 [12000/60000 (20%)]\t1.526065\n",
            "Train Epoch: 10 [14000/60000 (23%)]\t1.517603\n",
            "Train Epoch: 10 [16000/60000 (27%)]\t1.520866\n",
            "Train Epoch: 10 [18000/60000 (30%)]\t1.523265\n",
            "Train Epoch: 10 [20000/60000 (33%)]\t1.510687\n",
            "Train Epoch: 10 [22000/60000 (37%)]\t1.569835\n",
            "Train Epoch: 10 [24000/60000 (40%)]\t1.507751\n",
            "Train Epoch: 10 [26000/60000 (43%)]\t1.522275\n",
            "Train Epoch: 10 [28000/60000 (47%)]\t1.509604\n",
            "Train Epoch: 10 [30000/60000 (50%)]\t1.592795\n",
            "Train Epoch: 10 [32000/60000 (53%)]\t1.513976\n",
            "Train Epoch: 10 [34000/60000 (57%)]\t1.574593\n",
            "Train Epoch: 10 [36000/60000 (60%)]\t1.482796\n",
            "Train Epoch: 10 [38000/60000 (63%)]\t1.523730\n",
            "Train Epoch: 10 [40000/60000 (67%)]\t1.527436\n",
            "Train Epoch: 10 [42000/60000 (70%)]\t1.526090\n",
            "Train Epoch: 10 [44000/60000 (73%)]\t1.528072\n",
            "Train Epoch: 10 [46000/60000 (77%)]\t1.540685\n",
            "Train Epoch: 10 [48000/60000 (80%)]\t1.530436\n",
            "Train Epoch: 10 [50000/60000 (83%)]\t1.560273\n",
            "Train Epoch: 10 [52000/60000 (87%)]\t1.548890\n",
            "Train Epoch: 10 [54000/60000 (90%)]\t1.545194\n",
            "Train Epoch: 10 [56000/60000 (93%)]\t1.507901\n",
            "Train Epoch: 10 [58000/60000 (97%)]\t1.523799\n",
            "\n",
            "Test set: Average loss: 0.0149, Accuracy: 9751/10000 (98%)\n",
            "\n"
          ]
        }
      ]
    },
    {
      "cell_type": "code",
      "source": [
        "import matplotlib.pyplot as plt\n",
        "\n",
        "model.eval()\n",
        "data, target = test_data[100]\n",
        "data = data.unsqueeze(0).to(device)\n",
        "output = model(data)\n",
        "prediction = output.argmax(dim=1, keepdim=True).item()\n",
        "print(f'Prediction: {prediction}')\n",
        "\n",
        "image = data.squeeze(0).squeeze(0).cpu().numpy()\n",
        "plt.imshow(image, cmap='gray')\n",
        "plt.show()"
      ],
      "metadata": {
        "colab": {
          "base_uri": "https://localhost:8080/",
          "height": 504
        },
        "id": "P78fEqD27MnI",
        "outputId": "82791d6b-c31e-4dfe-923f-e436b7171f9b"
      },
      "execution_count": null,
      "outputs": [
        {
          "output_type": "stream",
          "name": "stdout",
          "text": [
            "Prediction: 6\n"
          ]
        },
        {
          "output_type": "stream",
          "name": "stderr",
          "text": [
            "<ipython-input-16-46d503fb6c30>:22: UserWarning: Implicit dimension choice for softmax has been deprecated. Change the call to include dim=X as an argument.\n",
            "  return F.softmax(x)\n"
          ]
        },
        {
          "output_type": "display_data",
          "data": {
            "text/plain": [
              "<Figure size 640x480 with 1 Axes>"
            ],
            "image/png": "[encoded data removed]"
          },
          "metadata": {}
        }
      ]
    }
  ]
}